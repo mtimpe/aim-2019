{
 "cells": [
  {
   "cell_type": "code",
   "execution_count": 1,
   "metadata": {},
   "outputs": [],
   "source": [
    "from __future__ import print_function, unicode_literals, division\n",
    "\n",
    "import datetime\n",
    "from datetime import datetime\n",
    "import matplotlib.pyplot as plt\n",
    "import numpy as np\n",
    "import pandas as pd\n",
    "\n",
    "plt.rc('axes', linewidth=2)\n",
    "\n",
    "fs_axlabel = 12\n",
    "fw_axlabel = 'bold'"
   ]
  },
  {
   "cell_type": "code",
   "execution_count": 8,
   "metadata": {},
   "outputs": [
    {
     "name": "stdout",
     "output_type": "stream",
     "text": [
      "2000-09-13 11:11:00-07:00\n"
     ]
    }
   ],
   "source": [
    "df = pd.read_csv('sent.csv', index_col='idx')\n",
    "\n",
    "df = df.dropna(how='any', subset=['date'])\n",
    " \n",
    "\n",
    "dt = [x[:-6] for x in df['date']]\n",
    "tz = [x[-6:] for x in df['date']]\n",
    "\n",
    "tz = [x.replace(':','') for x in tz]\n",
    "\n",
    "dates = []\n",
    "\n",
    "for x in df.date:\n",
    "    \n",
    "    dt = x[:-6]\n",
    "    tz = x[-6:].replace(':','')\n",
    "    \n",
    "    hour = int(dt[-8:-6])\n",
    "    zone = int(tz[2])\n",
    "    \n",
    "    loc_hr = hour + zone\n",
    "    \n",
    "    loc_hr %= 24\n",
    "    \n",
    "    dt = '{}{:02d}{}'.format(dt[:-8], loc_hr, dt[-6:])\n",
    "    \n",
    "    dtz = '{} {}'.format(dt, tz)\n",
    "    \n",
    "    dates.append(datetime.strptime(dtz, '%Y-%m-%d %H:%M:%S %z'))\n",
    "\n",
    "df['dt']  = dates\n",
    "\n",
    "df['tz']  = [x.tzinfo for x in dates]\n",
    "\n",
    "df['utc'] = [x.time() for x in dates]\n",
    "    \n",
    "df['day'] = [x.weekday() for x in dates]"
   ]
  },
  {
   "cell_type": "markdown",
   "metadata": {},
   "source": [
    "### Day of the week\n",
    "\n",
    "What days of the week are most emails sent?"
   ]
  },
  {
   "cell_type": "code",
   "execution_count": 3,
   "metadata": {},
   "outputs": [
    {
     "data": {
      "image/png": "[encoded data removed]",
      "text/plain": [
       "<Figure size 432x288 with 1 Axes>"
      ]
     },
     "metadata": {
      "needs_background": "light"
     },
     "output_type": "display_data"
    }
   ],
   "source": [
    "fig0, ax0 = plt.subplots(1, 1, figsize=(6,4))\n",
    "\n",
    "ax = ax0\n",
    "\n",
    "nbins = 7\n",
    "\n",
    "n, bins, patches = ax.hist(df['day'], nbins, facecolor='blue', rwidth=0.5, alpha=0.75)\n",
    "\n",
    "ax.set_xticks(bins+0.45)\n",
    "ax.set_xticklabels(['Mon', 'Tue', 'Wed', 'Thu', 'Fri', 'Sat', 'Sun'],\n",
    "                    fontsize=fs_axlabel, fontweight=fw_axlabel,\n",
    "                    rotation=30)\n",
    "\n",
    "ax.set_title('Emails by Day of the Week', fontsize=fs_axlabel, fontweight=fw_axlabel)\n",
    "ax.set_ylabel('N', fontsize=fs_axlabel, fontweight=fw_axlabel)\n",
    "\n",
    "\n",
    "\n",
    "for tick in ax.xaxis.get_major_ticks():\n",
    "    tick.label1.set_fontsize(fs_axlabel)\n",
    "    tick.label1.set_fontweight('bold')\n",
    "for tick in ax.yaxis.get_major_ticks():\n",
    "    tick.label1.set_fontsize(fs_axlabel)\n",
    "    tick.label1.set_fontweight('bold')\n",
    "\n",
    "plt.savefig('figs/day_of_week.png', format='png', dpi=72)\n",
    "\n",
    "plt.show()"
   ]
  },
  {
   "cell_type": "markdown",
   "metadata": {},
   "source": [
    "### Time of the day (UTC)\n",
    "\n",
    "What time of the day are emails typically sent? Need to convert to PST and correct for DST..."
   ]
  },
  {
   "cell_type": "code",
   "execution_count": 14,
   "metadata": {},
   "outputs": [
    {
     "data": {
      "image/png": "[encoded data removed]",
      "text/plain": [
       "<Figure size 432x288 with 1 Axes>"
      ]
     },
     "metadata": {
      "needs_background": "light"
     },
     "output_type": "display_data"
    }
   ],
   "source": [
    "fig1, ax1 = plt.subplots(1, 1, figsize=(6,4))\n",
    "\n",
    "ax = ax1\n",
    "\n",
    "nbins = 10\n",
    "\n",
    "x1 = \"08:00:00 -07:00\"\n",
    "x2 = \"18:00:00 -07:00\"\n",
    "\n",
    "x1 = datetime.strptime(x1, '%H:%M:%S %z')\n",
    "x2 = datetime.strptime(x2, '%H:%M:%S %z')\n",
    "\n",
    "n, bins, patches = ax.hist(df['utc'], nbins, facecolor='blue', rwidth=0.5, alpha=0.75)\n",
    "\n",
    "#ax.axvspan(x1, x2, alpha=0.5, color='red')\n",
    "\n",
    "ax.set_xlim(0,24*3600)\n",
    "\n",
    "xt = [x * 3600 for x in range(0, 25, 4)]\n",
    "yt = ['{}'.format(x) for x in range(0, 25, 4)]\n",
    "\n",
    "ax.set_xticks(xt)\n",
    "ax.set_xticklabels(yt,\n",
    "                    fontsize=fs_axlabel, fontweight=fw_axlabel,\n",
    "                    rotation=0)\n",
    "\n",
    "#ax.set_xlim(datetime.time(0,0,0,0), datetime.time(23,59,59,999999))\n",
    "\n",
    "ax.set_xlabel('Time [UTC]', fontsize=fs_axlabel, fontweight=fw_axlabel)\n",
    "ax.set_ylabel('N', fontsize=fs_axlabel, fontweight=fw_axlabel)\n",
    "\n",
    "ax.set_title('Emails by Time of the Day', fontsize=fs_axlabel, fontweight=fw_axlabel)\n",
    "\n",
    "for tick in ax.xaxis.get_major_ticks():\n",
    "    tick.label1.set_fontsize(fs_axlabel)\n",
    "    tick.label1.set_fontweight('bold')\n",
    "for tick in ax.yaxis.get_major_ticks():\n",
    "    tick.label1.set_fontsize(fs_axlabel)\n",
    "    tick.label1.set_fontweight('bold')\n",
    "\n",
    "plt.savefig('figs/time_of_day.png', format='png', dpi=72)\n",
    "\n",
    "plt.show()"
   ]
  },
  {
   "cell_type": "code",
   "execution_count": 5,
   "metadata": {},
   "outputs": [
    {
     "data": {
      "image/png": "[encoded data removed]",
      "text/plain": [
       "<Figure size 432x288 with 1 Axes>"
      ]
     },
     "metadata": {
      "needs_background": "light"
     },
     "output_type": "display_data"
    }
   ],
   "source": [
    "fig3, ax3 = plt.subplots(1, 1, figsize=(6,4))\n",
    "\n",
    "ax = ax3\n",
    "\n",
    "ax.axhline(0, color='grey', alpha=0.25, linewidth=2, linestyle='--')\n",
    "\n",
    "boxplot = df.boxplot(ax=ax, column=['body_comp'], by='day', grid=False,\n",
    "                     showfliers=False)\n",
    "\n",
    "ax.set_xlabel(None)\n",
    "#ax.set_xlabel('Day of the Week', fontsize=fs_axlabel, fontweight=fw_axlabel)\n",
    "ax.set_ylabel('Compound Score', fontsize=fs_axlabel, fontweight=fw_axlabel)\n",
    "\n",
    "ax.set_xticklabels(['Mon', 'Tue', 'Wed', 'Thu', 'Fri', 'Sat', 'Sun'],\n",
    "                    fontsize=fs_axlabel, fontweight=fw_axlabel,\n",
    "                    rotation=35)\n",
    "\n",
    "ax.set_title(None)\n",
    "\n",
    "plt.savefig('figs/boxplot_tone_by_day.png', format='png', dpi=72)\n",
    "\n",
    "plt.show()"
   ]
  },
  {
   "cell_type": "code",
   "execution_count": null,
   "metadata": {},
   "outputs": [],
   "source": []
  }
 ],
 "metadata": {
  "kernelspec": {
   "display_name": "Python 3",
   "language": "python",
   "name": "python3"
  },
  "language_info": {
   "codemirror_mode": {
    "name": "ipython",
    "version": 3
   },
   "file_extension": ".py",
   "mimetype": "text/x-python",
   "name": "python",
   "nbconvert_exporter": "python",
   "pygments_lexer": "ipython3",
   "version": "3.7.3"
  }
 },
 "nbformat": 4,
 "nbformat_minor": 2
}
